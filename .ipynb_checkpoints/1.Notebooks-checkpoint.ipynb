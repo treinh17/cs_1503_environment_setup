{
 "cells": [
  {
   "cell_type": "markdown",
   "id": "44be4484",
   "metadata": {},
   "source": [
    "# 1 Notebooks Title"
   ]
  },
  {
   "cell_type": "markdown",
   "id": "bb197853",
   "metadata": {},
   "source": [
    "* Troy Reinhardt\n",
    "* 1/25/2024"
   ]
  },
  {
   "cell_type": "markdown",
   "id": "5486cc96",
   "metadata": {},
   "source": [
    "## Markdown Exercises"
   ]
  },
  {
   "cell_type": "markdown",
   "id": "94d5ec01",
   "metadata": {},
   "source": [
    "Ever since I was young, I have also been interested in *sports* which has led to an interest in **statistics**. I am interested in machine learning for this reason to be able to use prior season's statistics to be able to **_predict_** the future. I've also always been curious how recommendation algorithms work, particularly with social media. I've always wanted to understand machine learning because I think it is a fantastic tool to **amplify** human knowledge and skills.\n",
    "\n",
    "1. Predicting numeric outcomes\n",
    "2. Clustering\n",
    "3. Heat maps"
   ]
  },
  {
   "cell_type": "markdown",
   "id": "c851c3b1",
   "metadata": {},
   "source": [
    "![Alt Text](https://media.giphy.com/media/SiGg4zSmwmbafTYwpj/giphy.gif)"
   ]
  },
  {
   "cell_type": "markdown",
   "id": "6fd2e886",
   "metadata": {},
   "source": [
    "## Jupyter Notebook Exercises"
   ]
  },
  {
   "cell_type": "code",
   "execution_count": 2,
   "id": "79e6537d",
   "metadata": {},
   "outputs": [
    {
     "name": "stdout",
     "output_type": "stream",
     "text": [
      "What is your name? Troy\n",
      "Hello Troy !\n"
     ]
    }
   ],
   "source": [
    "name = input(prompt=\"What is your name? \")\n",
    "print(\"Hello\", name, \"!\")"
   ]
  },
  {
   "cell_type": "code",
   "execution_count": null,
   "id": "1397c130",
   "metadata": {},
   "outputs": [],
   "source": []
  }
 ],
 "metadata": {
  "kernelspec": {
   "display_name": "Python 3 (ipykernel)",
   "language": "python",
   "name": "python3"
  },
  "language_info": {
   "codemirror_mode": {
    "name": "ipython",
    "version": 3
   },
   "file_extension": ".py",
   "mimetype": "text/x-python",
   "name": "python",
   "nbconvert_exporter": "python",
   "pygments_lexer": "ipython3",
   "version": "3.11.4"
  }
 },
 "nbformat": 4,
 "nbformat_minor": 5
}
